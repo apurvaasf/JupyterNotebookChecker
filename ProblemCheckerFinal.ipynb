{
 "cells": [
  {
   "cell_type": "code",
   "execution_count": 105,
   "metadata": {},
   "outputs": [
    {
     "name": "stdout",
     "output_type": "stream",
     "text": [
      "<Response [200]>\n",
      "<Response [200]>\n",
      "<Response [200]>\n",
      "<Response [200]>\n",
      "<Response [200]>\n"
     ]
    }
   ],
   "source": [
    "# Description: For each problem proposal, it does the following:\n",
    "#     1. Makes a folder with specified name\n",
    "#     2. Downloads notebook from the URL\n",
    "#     3. Downloads datafile\n",
    "#     4. Executes notebook\n",
    "#     5. Saves the exceuted notebook back into the folder created in step 1.\n",
    "#     6. Prints status of the service call\n",
    "\n",
    "# serviceUrl = \"https://cdcuxn7sh3.execute-api.ap-southeast-1.amazonaws.com/Prod/\"\n",
    "serviceUrl = \"https://usjqn1w4b6.execute-api.eu-central-1.amazonaws.com/Prod\"    \n",
    "    \n",
    "class notebookObject:\n",
    "    def __init__(self, notebookUrl, dataUrl, name):\n",
    "        self.notebookUrl = notebookUrl\n",
    "        self.dataUrl = dataUrl\n",
    "        self.name = name\n",
    "        \n",
    "        \n",
    "# notebookUrl1 = \"https://github.com/NUS-ALSET/Jupyter_Problem_Proposals/blob/master/Proposal1/Proposal1_Excel.ipynb?raw=true\"\n",
    "\n",
    "notebookUrl1 = \"https://github.com/apurvaasf/Jupyter_Problem_Proposals/blob/master/Proposal1/Proposal1_Excel.ipynb?raw=true\"\n",
    "dataUrl1 = \"https://github.com/NUS-ALSET/Jupyter_Problem_Proposals/raw/master/Proposal1/data.zip\"\n",
    "name1 = \"Proposal1_Excel\"\n",
    "notebookObj1 = notebookObject(notebookUrl1, dataUrl1, name1)\n",
    "\n",
    "notebookUrl1 = \"https://github.com/NUS-ALSET/Jupyter_Problem_Proposals/blob/master/Proposal2/Proposal2_EmailTemplate.ipynb?raw=true\"\n",
    "dataUrl1 = \"https://github.com/NUS-ALSET/Jupyter_Problem_Proposals/raw/master/Proposal2/data2.zip\"\n",
    "name1 = \"Proposal2_EmailTemplate\"\n",
    "notebookObj2 = notebookObject(notebookUrl1, dataUrl1, name1)\n",
    "\n",
    "# notebookUrl1 = \"https://github.com/NUS-ALSET/Jupyter_Problem_Proposals/blob/master/Proposal3/Proposal3_SumProblemProposal.ipynb?raw=true\"\n",
    "notebookUrl1 = \"https://github.com/apurvaasf/Jupyter_Problem_Proposals/blob/master/Proposal3/Proposal3_SumProblemProposal.ipynb?raw=true\"\n",
    "dataUrl1 = \"https://github.com/NUS-ALSET/Jupyter_Problem_Proposals/raw/master/Proposal3/data.zip\"\n",
    "name1 = \"Proposal3_SumProblemProposal\"\n",
    "notebookObj3 = notebookObject(notebookUrl1, dataUrl1, name1)\n",
    "\n",
    "notebookUrl1 = \"https://github.com/NUS-ALSET/Jupyter_Problem_Proposals/blob/master/PredictingValues_Proposal4/Proposal4.ipynb?raw=true\"\n",
    "dataUrl1 = \"https://github.com/NUS-ALSET/Jupyter_Problem_Proposals/raw/master/PredictingValues_Proposal4/data3.zip\"\n",
    "name1 = \"PredictingValues_Proposal4\"\n",
    "notebookObj4 = notebookObject(notebookUrl1, dataUrl1, name1)\n",
    "\n",
    "notebookUrl1 = \"https://github.com/NUS-ALSET/Jupyter_Problem_Proposals/blob/master/Kaggle_Proposal5/Proposal5.ipynb?raw=true\"\n",
    "dataUrl1 = \"https://github.com/NUS-ALSET/Jupyter_Problem_Proposals/raw/master/Kaggle_Proposal5/data3.zip\"\n",
    "name1 = \"Kaggle_Proposal5\"\n",
    "notebookObj5 = notebookObject(notebookUrl1, dataUrl1, name1)\n",
    "\n",
    "notebookObject_list = [notebookObj1, notebookObj2, notebookObj3, notebookObj4, notebookObj5]\n",
    "\n",
    "for notebookObject_ in notebookObject_list:\n",
    "    import os\n",
    "    if not os.path.exists(notebookObject_.name):\n",
    "        # Creating Directory for each Proposal\n",
    "        import requests\n",
    "        os.makedirs(notebookObject_.name)\n",
    "        response_notebook = requests.get(notebookObject_.notebookUrl)\n",
    "        \n",
    "        # Downloading python notebook and saving to the directory\n",
    "        path_ = './'+notebookObject_.name+'/'+notebookObject_.name+'.ipynb'\n",
    "        with open(path_, 'w') as outf:\n",
    "            outf.write(response_notebook.text)\n",
    "            \n",
    "        # Downloading data file and saving to the dictionary\n",
    "        response_data = requests.get(notebookObject_.dataUrl, stream=True)\n",
    "        filename = './'+notebookObject_.name+'/'+notebookObject_.name + '.zip'\n",
    "        with open(filename, 'wb') as handle:\n",
    "          for block in response_data.iter_content(1024*256):  # Load 256KB at a time and provide feedback. \n",
    "              handle.write(block)    \n",
    "                \n",
    "                \n",
    "                \n",
    "        #Dealing with the data file: \n",
    "         \n",
    "        \n",
    "        \n",
    "        \n",
    "        \n",
    "        \n",
    "        \n",
    "        # Executing file and saving the exceuted notebook into the folder\n",
    "        contents = requests.get(notebookObject_.notebookUrl).text\n",
    "        import json\n",
    "        nb = json.loads(contents)\n",
    "        \n",
    "        \n",
    "        \n",
    "        \n",
    "        \n",
    "        \n",
    "        \n",
    "        import base64\n",
    "        ENCODING = 'utf-8'\n",
    "        with open(filename, \"rb\") as f:\n",
    "            byte_content = f.read()\n",
    "            base64_bytes = base64.b64encode(byte_content)\n",
    "        base64_string = base64_bytes.decode(ENCODING)\n",
    "\n",
    "        files_={}    \n",
    "        files_['data.zip'] = base64_string;    \n",
    "            \n",
    "#         json_data = json.dumps(base64_string)\n",
    "#         name_='./'+notebookObject_.name+'/'+'data.zip'\n",
    "#         with open(name_, 'w') as another_open_file:\n",
    "#             another_open_file.write(json_data)    \n",
    "            \n",
    "            \n",
    "            \n",
    "            \n",
    "        \n",
    "        myData = {'notebook':nb, 'files':files_}\n",
    "        myDataStringified = json.dumps(myData)\n",
    "\n",
    "        r = requests.post(serviceUrl, myDataStringified)\n",
    "        print(r)\n",
    "        \n",
    "        import json\n",
    "        myJson = json.dumps(r.json()['ipynb'])\n",
    "        filename_solved = './'+notebookObject_.name+'/'+notebookObject_.name+'_solved.ipynb'\n",
    "        f = open(filename_solved,\"w\")\n",
    "        f.write(myJson)\n",
    "        f.close()"
   ]
  },
  {
   "cell_type": "code",
   "execution_count": 102,
   "metadata": {},
   "outputs": [],
   "source": [
    "!rm -rf Proposal1_Excel\n",
    "!rm -rf Proposal2_EmailTemplate\n",
    "!rm -rf Proposal3_SumProblemProposal\n",
    "!rm -rf PredictingValues_Proposal4\n",
    "!rm -rf Kaggle_Proposal5"
   ]
  },
  {
   "cell_type": "code",
   "execution_count": 103,
   "metadata": {},
   "outputs": [],
   "source": [
    "# !rm -rf data.zip"
   ]
  },
  {
   "cell_type": "code",
   "execution_count": 104,
   "metadata": {},
   "outputs": [
    {
     "name": "stdout",
     "output_type": "stream",
     "text": [
      "ProblemCheckerFinal.ipynb  README.md\r\n"
     ]
    }
   ],
   "source": [
    "!ls"
   ]
  }
 ],
 "metadata": {
  "kernelspec": {
   "display_name": "Python 3.6",
   "language": "python",
   "name": "python36"
  },
  "language_info": {
   "codemirror_mode": {
    "name": "ipython",
    "version": 3
   },
   "file_extension": ".py",
   "mimetype": "text/x-python",
   "name": "python",
   "nbconvert_exporter": "python",
   "pygments_lexer": "ipython3",
   "version": "3.6.3"
  }
 },
 "nbformat": 4,
 "nbformat_minor": 2
}
